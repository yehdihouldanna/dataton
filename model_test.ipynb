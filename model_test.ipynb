{
 "cells": [
  {
   "cell_type": "code",
   "execution_count": 5,
   "metadata": {},
   "outputs": [],
   "source": [
    "import numpy as np\n",
    "import tensorflow as tf\n",
    "from tensorflow.keras.models import Sequential\n",
    "from tensorflow.keras.layers import Dense\n",
    "\n",
    "def generate_data():\n",
    "    np.random.seed(42)\n",
    "    # Generate 1000 samples with 2 features\n",
    "    X = np.random.rand(1000, 2)\n",
    "    # Simple rule to generate labels: class 1 if sum of features > 1, else class 0\n",
    "    y = np.where(X.sum(axis=1) > 1, 1, 0)\n",
    "    # Generate random genders\n",
    "    genders = np.random.choice([0,1], size=1000)\n",
    "    # Combine features with genders\n",
    "    X_with_gender = np.column_stack((X, genders))\n",
    "    return X_with_gender, y\n",
    "\n",
    "\n",
    "# Define a simple neural network model\n",
    "def create_model():\n",
    "    model = Sequential([\n",
    "        Dense(8, input_dim=3, activation='relu'),\n",
    "        Dense(4, activation='relu'),\n",
    "        Dense(1, activation='sigmoid')  # Binary classification\n",
    "    ])\n",
    "    model.compile(optimizer='adam', loss='binary_crossentropy', metrics=['accuracy'])\n",
    "    return model\n",
    "\n",
    "# Train and save the model\n",
    "def train_and_save_model():\n",
    "    X, y = generate_data()\n",
    "    model = create_model()\n",
    "    model.fit(X, y, epochs=10, batch_size=32, validation_split=0.2)\n",
    "    model.save('simple_model2.h5')\n",
    "    print(\"Model saved as simple_model.h5\")\n"
   ]
  },
  {
   "cell_type": "code",
   "execution_count": 6,
   "metadata": {},
   "outputs": [
    {
     "name": "stdout",
     "output_type": "stream",
     "text": [
      "Epoch 1/10\n",
      "25/25 [==============================] - 0s 4ms/step - loss: 0.6965 - accuracy: 0.5050 - val_loss: 0.6917 - val_accuracy: 0.5450\n",
      "Epoch 2/10\n",
      "25/25 [==============================] - 0s 1ms/step - loss: 0.6926 - accuracy: 0.5150 - val_loss: 0.6872 - val_accuracy: 0.5350\n",
      "Epoch 3/10\n",
      "25/25 [==============================] - 0s 1ms/step - loss: 0.6870 - accuracy: 0.5075 - val_loss: 0.6820 - val_accuracy: 0.5450\n",
      "Epoch 4/10\n",
      "25/25 [==============================] - 0s 1ms/step - loss: 0.6818 - accuracy: 0.5250 - val_loss: 0.6768 - val_accuracy: 0.5450\n",
      "Epoch 5/10\n",
      "25/25 [==============================] - 0s 1ms/step - loss: 0.6762 - accuracy: 0.5362 - val_loss: 0.6708 - val_accuracy: 0.5450\n",
      "Epoch 6/10\n",
      "25/25 [==============================] - 0s 1ms/step - loss: 0.6702 - accuracy: 0.5412 - val_loss: 0.6642 - val_accuracy: 0.5550\n",
      "Epoch 7/10\n",
      "25/25 [==============================] - 0s 1ms/step - loss: 0.6631 - accuracy: 0.5575 - val_loss: 0.6564 - val_accuracy: 0.6050\n",
      "Epoch 8/10\n",
      "25/25 [==============================] - 0s 1ms/step - loss: 0.6550 - accuracy: 0.6037 - val_loss: 0.6471 - val_accuracy: 0.6350\n",
      "Epoch 9/10\n",
      "25/25 [==============================] - 0s 1ms/step - loss: 0.6459 - accuracy: 0.6388 - val_loss: 0.6376 - val_accuracy: 0.6800\n",
      "Epoch 10/10\n",
      "25/25 [==============================] - 0s 1ms/step - loss: 0.6360 - accuracy: 0.6538 - val_loss: 0.6265 - val_accuracy: 0.7000\n",
      "Model saved as simple_model.h5\n"
     ]
    }
   ],
   "source": [
    "train_and_save_model()"
   ]
  },
  {
   "cell_type": "code",
   "execution_count": null,
   "metadata": {},
   "outputs": [
    {
     "name": "stdout",
     "output_type": "stream",
     "text": [
      "2024-08-08_12-31\n"
     ]
    }
   ],
   "source": [
    "import datetime\n",
    "\n",
    "print(str(datetime.datetime.now()).replace(\" \",'_').replace(\":\",\"-\")[:16])"
   ]
  }
 ],
 "metadata": {
  "kernelspec": {
   "display_name": "base",
   "language": "python",
   "name": "python3"
  },
  "language_info": {
   "codemirror_mode": {
    "name": "ipython",
    "version": 3
   },
   "file_extension": ".py",
   "mimetype": "text/x-python",
   "name": "python",
   "nbconvert_exporter": "python",
   "pygments_lexer": "ipython3",
   "version": "3.11.3"
  }
 },
 "nbformat": 4,
 "nbformat_minor": 2
}
